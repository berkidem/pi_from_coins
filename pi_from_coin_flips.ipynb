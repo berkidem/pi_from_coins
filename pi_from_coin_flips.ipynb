{
 "cells": [
  {
   "cell_type": "code",
   "execution_count": 1,
   "metadata": {},
   "outputs": [],
   "source": [
    "import numpy as np"
   ]
  },
  {
   "cell_type": "code",
   "execution_count": 26,
   "metadata": {},
   "outputs": [],
   "source": [
    "def rand_num(k):\n",
    "    bin_arr = np.random.randint(2, size=k)\n",
    "    bin_str = \"\".join(str(x) for x in bin_arr)\n",
    "    num = int(bin_str, 2)/(2**k)\n",
    "    return num"
   ]
  },
  {
   "cell_type": "code",
   "execution_count": 28,
   "metadata": {},
   "outputs": [],
   "source": [
    "def rand_seq(n, k):\n",
    "    seq = [rand_num(k) for i in range(n)]\n",
    "    return seq"
   ]
  },
  {
   "cell_type": "code",
   "execution_count": 29,
   "metadata": {},
   "outputs": [],
   "source": [
    "def points(n, k):\n",
    "    x = rand_seq(n, k)\n",
    "    y = rand_seq(n, k)\n",
    "    points = [(x[i], y[i]) for i in range(n)]\n",
    "    return points"
   ]
  },
  {
   "cell_type": "code",
   "execution_count": 30,
   "metadata": {},
   "outputs": [],
   "source": [
    "def pi_flip(n, k):\n",
    "    pts = points(n, k)\n",
    "    in_circle = 0\n",
    "    for i in range(n):\n",
    "        if (pts[i][0]**2 + pts[i][1]**2) <= 1:\n",
    "            in_circle += 1\n",
    "    return 4*in_circle/n"
   ]
  },
  {
   "cell_type": "code",
   "execution_count": 31,
   "metadata": {},
   "outputs": [
    {
     "data": {
      "text/plain": [
       "3.1428"
      ]
     },
     "execution_count": 31,
     "metadata": {},
     "output_type": "execute_result"
    }
   ],
   "source": [
    "pi_flip(100000, 10)"
   ]
  },
  {
   "cell_type": "code",
   "execution_count": null,
   "metadata": {},
   "outputs": [],
   "source": []
  }
 ],
 "metadata": {
  "kernelspec": {
   "display_name": "base",
   "language": "python",
   "name": "python3"
  },
  "language_info": {
   "codemirror_mode": {
    "name": "ipython",
    "version": 3
   },
   "file_extension": ".py",
   "mimetype": "text/x-python",
   "name": "python",
   "nbconvert_exporter": "python",
   "pygments_lexer": "ipython3",
   "version": "3.7.3"
  },
  "orig_nbformat": 4
 },
 "nbformat": 4,
 "nbformat_minor": 2
}
